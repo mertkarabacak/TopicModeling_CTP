{
  "nbformat": 4,
  "nbformat_minor": 0,
  "metadata": {
    "colab": {
      "provenance": [],
      "machine_shape": "hm"
    },
    "kernelspec": {
      "name": "python3",
      "display_name": "Python 3"
    },
    "language_info": {
      "name": "python"
    },
    "gpuClass": "standard"
  },
  "cells": [
    {
      "cell_type": "code",
      "source": [
        "from google.colab import drive\n",
        "drive.mount('/content/drive')"
      ],
      "metadata": {
        "id": "_A8uKzN-yGA-"
      },
      "execution_count": null,
      "outputs": []
    },
    {
      "cell_type": "code",
      "source": [
        "import pandas as pd"
      ],
      "metadata": {
        "id": "X7LdK0N6D7w4"
      },
      "execution_count": null,
      "outputs": []
    },
    {
      "cell_type": "code",
      "source": [
        "#Read data.\n",
        "\n",
        "data = pd.read_csv(\"/content/drive/MyDrive/Topic Modeling-CTP/scopus.csv\", index_col = None)\n",
        "data.head()"
      ],
      "metadata": {
        "id": "yjiJLy_6yJVD"
      },
      "execution_count": null,
      "outputs": []
    },
    {
      "cell_type": "code",
      "source": [
        "#Remove unwanted columns.\n",
        "\n",
        "columns = ['Title', 'Year', 'Cited by', 'Abstract']\n",
        "\n",
        "data = data[columns]\n",
        "\n",
        "data.shape"
      ],
      "metadata": {
        "id": "NBM3HdsQESo3"
      },
      "execution_count": null,
      "outputs": []
    },
    {
      "cell_type": "code",
      "source": [
        "data = data[data['Abstract'] != '[No abstract available]']\n",
        "\n",
        "data.shape"
      ],
      "metadata": {
        "id": "CR5_BBEpUPwu"
      },
      "execution_count": null,
      "outputs": []
    },
    {
      "cell_type": "code",
      "source": [
        "#Create a 'Title + Abstract' column.\n",
        "\n",
        "data['Title + Abstract'] = 'Title: ' + data['Title'] + '\\n\\n' + 'Abstract: ' + data['Abstract']"
      ],
      "metadata": {
        "id": "GrA2C15IFRtX"
      },
      "execution_count": null,
      "outputs": []
    },
    {
      "cell_type": "code",
      "source": [
        "#Bin the \"Cited by\" column into four quartiles and turn it into categorical data.\n",
        "\n",
        "data['Citation Quartiles'] = pd.qcut(data['Cited by'], q=4, labels=['Q4', 'Q3', 'Q2', 'Q1'])"
      ],
      "metadata": {
        "id": "N9tHdYlxP4au"
      },
      "execution_count": null,
      "outputs": []
    },
    {
      "cell_type": "code",
      "source": [
        "#Save data.\n",
        "\n",
        "data.to_csv('/content/drive/MyDrive/Topic Modeling-CTP/data.csv')"
      ],
      "metadata": {
        "id": "EC4aazDqceLX"
      },
      "execution_count": null,
      "outputs": []
    }
  ]
}